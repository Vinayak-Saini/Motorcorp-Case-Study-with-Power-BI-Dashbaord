{
 "cells": [
  {
   "cell_type": "markdown",
   "metadata": {},
   "source": [
    "### Importing Modules useful for Data Pre-processing."
   ]
  },
  {
   "cell_type": "code",
   "execution_count": 1,
   "metadata": {},
   "outputs": [],
   "source": [
    "import pandas as pd\n",
    "import numpy as np\n",
    "import matplotlib.pyplot as plt"
   ]
  },
  {
   "cell_type": "markdown",
   "metadata": {},
   "source": [
    "### Reading the dataset file."
   ]
  },
  {
   "cell_type": "code",
   "execution_count": 2,
   "metadata": {},
   "outputs": [],
   "source": [
    "df = pd.read_csv(\"C:\\\\Users\\\\cdac\\\\Desktop\\\\PRoject\\\\HEROMOTOCO.csv\")"
   ]
  },
  {
   "cell_type": "markdown",
   "metadata": {},
   "source": [
    "### Getting summary of Data."
   ]
  },
  {
   "cell_type": "code",
   "execution_count": 3,
   "metadata": {},
   "outputs": [
    {
     "data": {
      "text/html": [
       "<div>\n",
       "<style scoped>\n",
       "    .dataframe tbody tr th:only-of-type {\n",
       "        vertical-align: middle;\n",
       "    }\n",
       "\n",
       "    .dataframe tbody tr th {\n",
       "        vertical-align: top;\n",
       "    }\n",
       "\n",
       "    .dataframe thead th {\n",
       "        text-align: right;\n",
       "    }\n",
       "</style>\n",
       "<table border=\"1\" class=\"dataframe\">\n",
       "  <thead>\n",
       "    <tr style=\"text-align: right;\">\n",
       "      <th></th>\n",
       "      <th>Date</th>\n",
       "      <th>Symbol</th>\n",
       "      <th>Series</th>\n",
       "      <th>Prev Close</th>\n",
       "      <th>Open</th>\n",
       "      <th>High</th>\n",
       "      <th>Low</th>\n",
       "      <th>Last</th>\n",
       "      <th>Close</th>\n",
       "      <th>VWAP</th>\n",
       "      <th>Volume</th>\n",
       "      <th>Turnover</th>\n",
       "      <th>Trades</th>\n",
       "      <th>Deliverable Volume</th>\n",
       "      <th>%Deliverble</th>\n",
       "    </tr>\n",
       "  </thead>\n",
       "  <tbody>\n",
       "    <tr>\n",
       "      <th>5301</th>\n",
       "      <td>2021-04-26</td>\n",
       "      <td>HEROMOTOCO</td>\n",
       "      <td>EQ</td>\n",
       "      <td>2864.05</td>\n",
       "      <td>2860.05</td>\n",
       "      <td>2878.4</td>\n",
       "      <td>2830.00</td>\n",
       "      <td>2865.05</td>\n",
       "      <td>2864.55</td>\n",
       "      <td>2855.14</td>\n",
       "      <td>831133</td>\n",
       "      <td>2.373003e+14</td>\n",
       "      <td>46378.0</td>\n",
       "      <td>406724.0</td>\n",
       "      <td>0.4894</td>\n",
       "    </tr>\n",
       "    <tr>\n",
       "      <th>5302</th>\n",
       "      <td>2021-04-27</td>\n",
       "      <td>HEROMOTOCO</td>\n",
       "      <td>EQ</td>\n",
       "      <td>2864.55</td>\n",
       "      <td>2875.00</td>\n",
       "      <td>2939.0</td>\n",
       "      <td>2870.25</td>\n",
       "      <td>2912.00</td>\n",
       "      <td>2905.50</td>\n",
       "      <td>2912.01</td>\n",
       "      <td>811184</td>\n",
       "      <td>2.362178e+14</td>\n",
       "      <td>57761.0</td>\n",
       "      <td>222680.0</td>\n",
       "      <td>0.2745</td>\n",
       "    </tr>\n",
       "    <tr>\n",
       "      <th>5303</th>\n",
       "      <td>2021-04-28</td>\n",
       "      <td>HEROMOTOCO</td>\n",
       "      <td>EQ</td>\n",
       "      <td>2905.50</td>\n",
       "      <td>2928.00</td>\n",
       "      <td>3009.0</td>\n",
       "      <td>2915.05</td>\n",
       "      <td>2932.00</td>\n",
       "      <td>2926.25</td>\n",
       "      <td>2964.25</td>\n",
       "      <td>1389833</td>\n",
       "      <td>4.119816e+14</td>\n",
       "      <td>67349.0</td>\n",
       "      <td>246401.0</td>\n",
       "      <td>0.1773</td>\n",
       "    </tr>\n",
       "    <tr>\n",
       "      <th>5304</th>\n",
       "      <td>2021-04-29</td>\n",
       "      <td>HEROMOTOCO</td>\n",
       "      <td>EQ</td>\n",
       "      <td>2926.25</td>\n",
       "      <td>2963.80</td>\n",
       "      <td>2963.8</td>\n",
       "      <td>2850.05</td>\n",
       "      <td>2857.00</td>\n",
       "      <td>2860.10</td>\n",
       "      <td>2886.24</td>\n",
       "      <td>1009327</td>\n",
       "      <td>2.913165e+14</td>\n",
       "      <td>60682.0</td>\n",
       "      <td>318216.0</td>\n",
       "      <td>0.3153</td>\n",
       "    </tr>\n",
       "    <tr>\n",
       "      <th>5305</th>\n",
       "      <td>2021-04-30</td>\n",
       "      <td>HEROMOTOCO</td>\n",
       "      <td>EQ</td>\n",
       "      <td>2860.10</td>\n",
       "      <td>2834.80</td>\n",
       "      <td>2860.0</td>\n",
       "      <td>2805.00</td>\n",
       "      <td>2818.00</td>\n",
       "      <td>2819.15</td>\n",
       "      <td>2833.08</td>\n",
       "      <td>670258</td>\n",
       "      <td>1.898897e+14</td>\n",
       "      <td>50970.0</td>\n",
       "      <td>302022.0</td>\n",
       "      <td>0.4506</td>\n",
       "    </tr>\n",
       "  </tbody>\n",
       "</table>\n",
       "</div>"
      ],
      "text/plain": [
       "            Date      Symbol Series  Prev Close     Open    High      Low  \\\n",
       "5301  2021-04-26  HEROMOTOCO     EQ     2864.05  2860.05  2878.4  2830.00   \n",
       "5302  2021-04-27  HEROMOTOCO     EQ     2864.55  2875.00  2939.0  2870.25   \n",
       "5303  2021-04-28  HEROMOTOCO     EQ     2905.50  2928.00  3009.0  2915.05   \n",
       "5304  2021-04-29  HEROMOTOCO     EQ     2926.25  2963.80  2963.8  2850.05   \n",
       "5305  2021-04-30  HEROMOTOCO     EQ     2860.10  2834.80  2860.0  2805.00   \n",
       "\n",
       "         Last    Close     VWAP   Volume      Turnover   Trades  \\\n",
       "5301  2865.05  2864.55  2855.14   831133  2.373003e+14  46378.0   \n",
       "5302  2912.00  2905.50  2912.01   811184  2.362178e+14  57761.0   \n",
       "5303  2932.00  2926.25  2964.25  1389833  4.119816e+14  67349.0   \n",
       "5304  2857.00  2860.10  2886.24  1009327  2.913165e+14  60682.0   \n",
       "5305  2818.00  2819.15  2833.08   670258  1.898897e+14  50970.0   \n",
       "\n",
       "      Deliverable Volume  %Deliverble  \n",
       "5301            406724.0       0.4894  \n",
       "5302            222680.0       0.2745  \n",
       "5303            246401.0       0.1773  \n",
       "5304            318216.0       0.3153  \n",
       "5305            302022.0       0.4506  "
      ]
     },
     "execution_count": 3,
     "metadata": {},
     "output_type": "execute_result"
    }
   ],
   "source": [
    "df.tail()"
   ]
  },
  {
   "cell_type": "code",
   "execution_count": 4,
   "metadata": {},
   "outputs": [
    {
     "name": "stdout",
     "output_type": "stream",
     "text": [
      "<class 'pandas.core.frame.DataFrame'>\n",
      "RangeIndex: 5306 entries, 0 to 5305\n",
      "Data columns (total 15 columns):\n",
      " #   Column              Non-Null Count  Dtype  \n",
      "---  ------              --------------  -----  \n",
      " 0   Date                5306 non-null   object \n",
      " 1   Symbol              5306 non-null   object \n",
      " 2   Series              5306 non-null   object \n",
      " 3   Prev Close          5306 non-null   float64\n",
      " 4   Open                5306 non-null   float64\n",
      " 5   High                5306 non-null   float64\n",
      " 6   Low                 5306 non-null   float64\n",
      " 7   Last                5306 non-null   float64\n",
      " 8   Close               5306 non-null   float64\n",
      " 9   VWAP                5306 non-null   float64\n",
      " 10  Volume              5306 non-null   int64  \n",
      " 11  Turnover            5306 non-null   float64\n",
      " 12  Trades              2456 non-null   float64\n",
      " 13  Deliverable Volume  4797 non-null   float64\n",
      " 14  %Deliverble         4797 non-null   float64\n",
      "dtypes: float64(11), int64(1), object(3)\n",
      "memory usage: 621.9+ KB\n"
     ]
    }
   ],
   "source": [
    "df.info() "
   ]
  },
  {
   "cell_type": "code",
   "execution_count": 5,
   "metadata": {},
   "outputs": [],
   "source": [
    "df.rename(columns = {\"%Deliverble\": \"%Deliverable\"},inplace = True)"
   ]
  },
  {
   "cell_type": "code",
   "execution_count": 6,
   "metadata": {},
   "outputs": [
    {
     "data": {
      "text/html": [
       "<div>\n",
       "<style scoped>\n",
       "    .dataframe tbody tr th:only-of-type {\n",
       "        vertical-align: middle;\n",
       "    }\n",
       "\n",
       "    .dataframe tbody tr th {\n",
       "        vertical-align: top;\n",
       "    }\n",
       "\n",
       "    .dataframe thead th {\n",
       "        text-align: right;\n",
       "    }\n",
       "</style>\n",
       "<table border=\"1\" class=\"dataframe\">\n",
       "  <thead>\n",
       "    <tr style=\"text-align: right;\">\n",
       "      <th></th>\n",
       "      <th>Prev Close</th>\n",
       "      <th>Open</th>\n",
       "      <th>High</th>\n",
       "      <th>Low</th>\n",
       "      <th>Last</th>\n",
       "      <th>Close</th>\n",
       "      <th>VWAP</th>\n",
       "      <th>Volume</th>\n",
       "      <th>Turnover</th>\n",
       "      <th>Trades</th>\n",
       "      <th>Deliverable Volume</th>\n",
       "      <th>%Deliverable</th>\n",
       "    </tr>\n",
       "  </thead>\n",
       "  <tbody>\n",
       "    <tr>\n",
       "      <th>count</th>\n",
       "      <td>5306.000000</td>\n",
       "      <td>5306.000000</td>\n",
       "      <td>5306.000000</td>\n",
       "      <td>5306.000000</td>\n",
       "      <td>5306.000000</td>\n",
       "      <td>5306.000000</td>\n",
       "      <td>5306.000000</td>\n",
       "      <td>5.306000e+03</td>\n",
       "      <td>5.306000e+03</td>\n",
       "      <td>2456.000000</td>\n",
       "      <td>4.797000e+03</td>\n",
       "      <td>4797.000000</td>\n",
       "    </tr>\n",
       "    <tr>\n",
       "      <th>mean</th>\n",
       "      <td>1651.346862</td>\n",
       "      <td>1653.169544</td>\n",
       "      <td>1675.767273</td>\n",
       "      <td>1628.693781</td>\n",
       "      <td>1651.483047</td>\n",
       "      <td>1651.662345</td>\n",
       "      <td>1652.497631</td>\n",
       "      <td>4.871809e+05</td>\n",
       "      <td>9.100201e+13</td>\n",
       "      <td>37295.248779</td>\n",
       "      <td>2.599261e+05</td>\n",
       "      <td>0.519843</td>\n",
       "    </tr>\n",
       "    <tr>\n",
       "      <th>std</th>\n",
       "      <td>1083.346794</td>\n",
       "      <td>1085.385796</td>\n",
       "      <td>1095.027199</td>\n",
       "      <td>1073.447115</td>\n",
       "      <td>1083.179725</td>\n",
       "      <td>1083.443103</td>\n",
       "      <td>1084.177213</td>\n",
       "      <td>5.300477e+05</td>\n",
       "      <td>1.396886e+14</td>\n",
       "      <td>26960.953831</td>\n",
       "      <td>2.785190e+05</td>\n",
       "      <td>0.155270</td>\n",
       "    </tr>\n",
       "    <tr>\n",
       "      <th>min</th>\n",
       "      <td>116.650000</td>\n",
       "      <td>117.000000</td>\n",
       "      <td>123.700000</td>\n",
       "      <td>115.050000</td>\n",
       "      <td>117.000000</td>\n",
       "      <td>116.650000</td>\n",
       "      <td>118.880000</td>\n",
       "      <td>5.960000e+02</td>\n",
       "      <td>2.765216e+10</td>\n",
       "      <td>646.000000</td>\n",
       "      <td>1.642000e+03</td>\n",
       "      <td>0.083700</td>\n",
       "    </tr>\n",
       "    <tr>\n",
       "      <th>25%</th>\n",
       "      <td>697.287500</td>\n",
       "      <td>697.325000</td>\n",
       "      <td>709.900000</td>\n",
       "      <td>682.000000</td>\n",
       "      <td>697.000000</td>\n",
       "      <td>697.287500</td>\n",
       "      <td>696.077500</td>\n",
       "      <td>2.078688e+05</td>\n",
       "      <td>1.588965e+13</td>\n",
       "      <td>20107.500000</td>\n",
       "      <td>1.227350e+05</td>\n",
       "      <td>0.413600</td>\n",
       "    </tr>\n",
       "    <tr>\n",
       "      <th>50%</th>\n",
       "      <td>1689.425000</td>\n",
       "      <td>1690.000000</td>\n",
       "      <td>1713.500000</td>\n",
       "      <td>1660.750000</td>\n",
       "      <td>1689.550000</td>\n",
       "      <td>1689.925000</td>\n",
       "      <td>1686.615000</td>\n",
       "      <td>3.546025e+05</td>\n",
       "      <td>5.149785e+13</td>\n",
       "      <td>29540.000000</td>\n",
       "      <td>2.018250e+05</td>\n",
       "      <td>0.526400</td>\n",
       "    </tr>\n",
       "    <tr>\n",
       "      <th>75%</th>\n",
       "      <td>2584.487500</td>\n",
       "      <td>2590.000000</td>\n",
       "      <td>2617.775000</td>\n",
       "      <td>2555.750000</td>\n",
       "      <td>2585.000000</td>\n",
       "      <td>2584.725000</td>\n",
       "      <td>2588.282500</td>\n",
       "      <td>5.967798e+05</td>\n",
       "      <td>1.114694e+14</td>\n",
       "      <td>45236.500000</td>\n",
       "      <td>3.266780e+05</td>\n",
       "      <td>0.632700</td>\n",
       "    </tr>\n",
       "    <tr>\n",
       "      <th>max</th>\n",
       "      <td>4048.950000</td>\n",
       "      <td>4084.000000</td>\n",
       "      <td>4091.950000</td>\n",
       "      <td>3995.000000</td>\n",
       "      <td>4036.050000</td>\n",
       "      <td>4048.950000</td>\n",
       "      <td>4046.970000</td>\n",
       "      <td>1.166595e+07</td>\n",
       "      <td>3.359303e+15</td>\n",
       "      <td>243105.000000</td>\n",
       "      <td>8.862088e+06</td>\n",
       "      <td>1.000000</td>\n",
       "    </tr>\n",
       "  </tbody>\n",
       "</table>\n",
       "</div>"
      ],
      "text/plain": [
       "        Prev Close         Open         High          Low         Last  \\\n",
       "count  5306.000000  5306.000000  5306.000000  5306.000000  5306.000000   \n",
       "mean   1651.346862  1653.169544  1675.767273  1628.693781  1651.483047   \n",
       "std    1083.346794  1085.385796  1095.027199  1073.447115  1083.179725   \n",
       "min     116.650000   117.000000   123.700000   115.050000   117.000000   \n",
       "25%     697.287500   697.325000   709.900000   682.000000   697.000000   \n",
       "50%    1689.425000  1690.000000  1713.500000  1660.750000  1689.550000   \n",
       "75%    2584.487500  2590.000000  2617.775000  2555.750000  2585.000000   \n",
       "max    4048.950000  4084.000000  4091.950000  3995.000000  4036.050000   \n",
       "\n",
       "             Close         VWAP        Volume      Turnover         Trades  \\\n",
       "count  5306.000000  5306.000000  5.306000e+03  5.306000e+03    2456.000000   \n",
       "mean   1651.662345  1652.497631  4.871809e+05  9.100201e+13   37295.248779   \n",
       "std    1083.443103  1084.177213  5.300477e+05  1.396886e+14   26960.953831   \n",
       "min     116.650000   118.880000  5.960000e+02  2.765216e+10     646.000000   \n",
       "25%     697.287500   696.077500  2.078688e+05  1.588965e+13   20107.500000   \n",
       "50%    1689.925000  1686.615000  3.546025e+05  5.149785e+13   29540.000000   \n",
       "75%    2584.725000  2588.282500  5.967798e+05  1.114694e+14   45236.500000   \n",
       "max    4048.950000  4046.970000  1.166595e+07  3.359303e+15  243105.000000   \n",
       "\n",
       "       Deliverable Volume  %Deliverable  \n",
       "count        4.797000e+03   4797.000000  \n",
       "mean         2.599261e+05      0.519843  \n",
       "std          2.785190e+05      0.155270  \n",
       "min          1.642000e+03      0.083700  \n",
       "25%          1.227350e+05      0.413600  \n",
       "50%          2.018250e+05      0.526400  \n",
       "75%          3.266780e+05      0.632700  \n",
       "max          8.862088e+06      1.000000  "
      ]
     },
     "execution_count": 6,
     "metadata": {},
     "output_type": "execute_result"
    }
   ],
   "source": [
    "df.describe()"
   ]
  },
  {
   "cell_type": "code",
   "execution_count": 7,
   "metadata": {},
   "outputs": [],
   "source": [
    "df.rename(columns = {\"%Deliverble\": \"%Deliverable\"},inplace = True)"
   ]
  },
  {
   "cell_type": "markdown",
   "metadata": {},
   "source": [
    "### Checking null values in suspected columns."
   ]
  },
  {
   "cell_type": "code",
   "execution_count": 8,
   "metadata": {},
   "outputs": [
    {
     "data": {
      "text/plain": [
       "509"
      ]
     },
     "execution_count": 8,
     "metadata": {},
     "output_type": "execute_result"
    }
   ],
   "source": [
    "df[\"%Deliverable\"].isnull().sum()"
   ]
  },
  {
   "cell_type": "code",
   "execution_count": 9,
   "metadata": {},
   "outputs": [
    {
     "data": {
      "text/plain": [
       "509"
      ]
     },
     "execution_count": 9,
     "metadata": {},
     "output_type": "execute_result"
    }
   ],
   "source": [
    "df[\"Deliverable Volume\"].isnull().sum()"
   ]
  },
  {
   "cell_type": "code",
   "execution_count": 10,
   "metadata": {},
   "outputs": [
    {
     "data": {
      "text/plain": [
       "2850"
      ]
     },
     "execution_count": 10,
     "metadata": {},
     "output_type": "execute_result"
    }
   ],
   "source": [
    "df.Trades.isnull().sum()"
   ]
  },
  {
   "cell_type": "code",
   "execution_count": 11,
   "metadata": {},
   "outputs": [],
   "source": [
    "## Found null values in %DELIVERABLE, DELIVERABLE VOLUME and TRADES."
   ]
  },
  {
   "cell_type": "markdown",
   "metadata": {},
   "source": [
    "### Let's check if data is skewed or not with the help of a seaborn plot."
   ]
  },
  {
   "cell_type": "code",
   "execution_count": 12,
   "metadata": {},
   "outputs": [
    {
     "data": {
      "text/html": [
       "<div>\n",
       "<style scoped>\n",
       "    .dataframe tbody tr th:only-of-type {\n",
       "        vertical-align: middle;\n",
       "    }\n",
       "\n",
       "    .dataframe tbody tr th {\n",
       "        vertical-align: top;\n",
       "    }\n",
       "\n",
       "    .dataframe thead th {\n",
       "        text-align: right;\n",
       "    }\n",
       "</style>\n",
       "<table border=\"1\" class=\"dataframe\">\n",
       "  <thead>\n",
       "    <tr style=\"text-align: right;\">\n",
       "      <th></th>\n",
       "      <th>Date</th>\n",
       "      <th>Symbol</th>\n",
       "      <th>Series</th>\n",
       "      <th>Prev Close</th>\n",
       "      <th>Open</th>\n",
       "      <th>High</th>\n",
       "      <th>Low</th>\n",
       "      <th>Last</th>\n",
       "      <th>Close</th>\n",
       "      <th>VWAP</th>\n",
       "      <th>Volume</th>\n",
       "      <th>Turnover</th>\n",
       "      <th>Trades</th>\n",
       "      <th>Deliverable Volume</th>\n",
       "      <th>%Deliverable</th>\n",
       "    </tr>\n",
       "  </thead>\n",
       "  <tbody>\n",
       "    <tr>\n",
       "      <th>0</th>\n",
       "      <td>2000-01-03</td>\n",
       "      <td>HEROHONDA</td>\n",
       "      <td>EQ</td>\n",
       "      <td>1145.20</td>\n",
       "      <td>1200.0</td>\n",
       "      <td>1236.80</td>\n",
       "      <td>1171.00</td>\n",
       "      <td>1209.95</td>\n",
       "      <td>1207.60</td>\n",
       "      <td>1209.11</td>\n",
       "      <td>10631</td>\n",
       "      <td>1.285401e+12</td>\n",
       "      <td>NaN</td>\n",
       "      <td>NaN</td>\n",
       "      <td>NaN</td>\n",
       "    </tr>\n",
       "    <tr>\n",
       "      <th>1</th>\n",
       "      <td>2000-01-04</td>\n",
       "      <td>HEROHONDA</td>\n",
       "      <td>EQ</td>\n",
       "      <td>1207.60</td>\n",
       "      <td>1200.0</td>\n",
       "      <td>1220.00</td>\n",
       "      <td>1176.00</td>\n",
       "      <td>1200.00</td>\n",
       "      <td>1199.85</td>\n",
       "      <td>1200.93</td>\n",
       "      <td>19849</td>\n",
       "      <td>2.383719e+12</td>\n",
       "      <td>NaN</td>\n",
       "      <td>NaN</td>\n",
       "      <td>NaN</td>\n",
       "    </tr>\n",
       "    <tr>\n",
       "      <th>2</th>\n",
       "      <td>2000-01-05</td>\n",
       "      <td>HEROHONDA</td>\n",
       "      <td>EQ</td>\n",
       "      <td>1199.85</td>\n",
       "      <td>1155.0</td>\n",
       "      <td>1178.00</td>\n",
       "      <td>1140.00</td>\n",
       "      <td>1140.00</td>\n",
       "      <td>1143.80</td>\n",
       "      <td>1159.74</td>\n",
       "      <td>2525</td>\n",
       "      <td>2.928355e+11</td>\n",
       "      <td>NaN</td>\n",
       "      <td>NaN</td>\n",
       "      <td>NaN</td>\n",
       "    </tr>\n",
       "    <tr>\n",
       "      <th>3</th>\n",
       "      <td>2000-01-06</td>\n",
       "      <td>HEROHONDA</td>\n",
       "      <td>EQ</td>\n",
       "      <td>1143.80</td>\n",
       "      <td>1183.0</td>\n",
       "      <td>1189.95</td>\n",
       "      <td>1150.25</td>\n",
       "      <td>1165.00</td>\n",
       "      <td>1161.40</td>\n",
       "      <td>1167.29</td>\n",
       "      <td>4375</td>\n",
       "      <td>5.106887e+11</td>\n",
       "      <td>NaN</td>\n",
       "      <td>NaN</td>\n",
       "      <td>NaN</td>\n",
       "    </tr>\n",
       "    <tr>\n",
       "      <th>4</th>\n",
       "      <td>2000-01-07</td>\n",
       "      <td>HEROHONDA</td>\n",
       "      <td>EQ</td>\n",
       "      <td>1161.40</td>\n",
       "      <td>1140.0</td>\n",
       "      <td>1140.00</td>\n",
       "      <td>1069.00</td>\n",
       "      <td>1105.00</td>\n",
       "      <td>1106.55</td>\n",
       "      <td>1103.52</td>\n",
       "      <td>9093</td>\n",
       "      <td>1.003429e+12</td>\n",
       "      <td>NaN</td>\n",
       "      <td>NaN</td>\n",
       "      <td>NaN</td>\n",
       "    </tr>\n",
       "  </tbody>\n",
       "</table>\n",
       "</div>"
      ],
      "text/plain": [
       "         Date     Symbol Series  Prev Close    Open     High      Low  \\\n",
       "0  2000-01-03  HEROHONDA     EQ     1145.20  1200.0  1236.80  1171.00   \n",
       "1  2000-01-04  HEROHONDA     EQ     1207.60  1200.0  1220.00  1176.00   \n",
       "2  2000-01-05  HEROHONDA     EQ     1199.85  1155.0  1178.00  1140.00   \n",
       "3  2000-01-06  HEROHONDA     EQ     1143.80  1183.0  1189.95  1150.25   \n",
       "4  2000-01-07  HEROHONDA     EQ     1161.40  1140.0  1140.00  1069.00   \n",
       "\n",
       "      Last    Close     VWAP  Volume      Turnover  Trades  \\\n",
       "0  1209.95  1207.60  1209.11   10631  1.285401e+12     NaN   \n",
       "1  1200.00  1199.85  1200.93   19849  2.383719e+12     NaN   \n",
       "2  1140.00  1143.80  1159.74    2525  2.928355e+11     NaN   \n",
       "3  1165.00  1161.40  1167.29    4375  5.106887e+11     NaN   \n",
       "4  1105.00  1106.55  1103.52    9093  1.003429e+12     NaN   \n",
       "\n",
       "   Deliverable Volume  %Deliverable  \n",
       "0                 NaN           NaN  \n",
       "1                 NaN           NaN  \n",
       "2                 NaN           NaN  \n",
       "3                 NaN           NaN  \n",
       "4                 NaN           NaN  "
      ]
     },
     "execution_count": 12,
     "metadata": {},
     "output_type": "execute_result"
    }
   ],
   "source": [
    "import seaborn as sns\n",
    "df.head()"
   ]
  },
  {
   "cell_type": "code",
   "execution_count": 13,
   "metadata": {},
   "outputs": [],
   "source": [
    " df[\"Date\"] = pd.to_datetime(df.Date)"
   ]
  },
  {
   "cell_type": "code",
   "execution_count": 14,
   "metadata": {},
   "outputs": [],
   "source": [
    "df[\"Year\"]=pd.DatetimeIndex(df['Date']).year"
   ]
  },
  {
   "cell_type": "code",
   "execution_count": 15,
   "metadata": {},
   "outputs": [
    {
     "data": {
      "text/html": [
       "<div>\n",
       "<style scoped>\n",
       "    .dataframe tbody tr th:only-of-type {\n",
       "        vertical-align: middle;\n",
       "    }\n",
       "\n",
       "    .dataframe tbody tr th {\n",
       "        vertical-align: top;\n",
       "    }\n",
       "\n",
       "    .dataframe thead th {\n",
       "        text-align: right;\n",
       "    }\n",
       "</style>\n",
       "<table border=\"1\" class=\"dataframe\">\n",
       "  <thead>\n",
       "    <tr style=\"text-align: right;\">\n",
       "      <th></th>\n",
       "      <th>Date</th>\n",
       "      <th>Symbol</th>\n",
       "      <th>Series</th>\n",
       "      <th>Prev Close</th>\n",
       "      <th>Open</th>\n",
       "      <th>High</th>\n",
       "      <th>Low</th>\n",
       "      <th>Last</th>\n",
       "      <th>Close</th>\n",
       "      <th>VWAP</th>\n",
       "      <th>Volume</th>\n",
       "      <th>Turnover</th>\n",
       "      <th>Trades</th>\n",
       "      <th>Deliverable Volume</th>\n",
       "      <th>%Deliverable</th>\n",
       "      <th>Year</th>\n",
       "    </tr>\n",
       "  </thead>\n",
       "  <tbody>\n",
       "    <tr>\n",
       "      <th>0</th>\n",
       "      <td>2000-01-03</td>\n",
       "      <td>HEROHONDA</td>\n",
       "      <td>EQ</td>\n",
       "      <td>1145.20</td>\n",
       "      <td>1200.0</td>\n",
       "      <td>1236.80</td>\n",
       "      <td>1171.00</td>\n",
       "      <td>1209.95</td>\n",
       "      <td>1207.60</td>\n",
       "      <td>1209.11</td>\n",
       "      <td>10631</td>\n",
       "      <td>1.285401e+12</td>\n",
       "      <td>NaN</td>\n",
       "      <td>NaN</td>\n",
       "      <td>NaN</td>\n",
       "      <td>2000</td>\n",
       "    </tr>\n",
       "    <tr>\n",
       "      <th>1</th>\n",
       "      <td>2000-01-04</td>\n",
       "      <td>HEROHONDA</td>\n",
       "      <td>EQ</td>\n",
       "      <td>1207.60</td>\n",
       "      <td>1200.0</td>\n",
       "      <td>1220.00</td>\n",
       "      <td>1176.00</td>\n",
       "      <td>1200.00</td>\n",
       "      <td>1199.85</td>\n",
       "      <td>1200.93</td>\n",
       "      <td>19849</td>\n",
       "      <td>2.383719e+12</td>\n",
       "      <td>NaN</td>\n",
       "      <td>NaN</td>\n",
       "      <td>NaN</td>\n",
       "      <td>2000</td>\n",
       "    </tr>\n",
       "    <tr>\n",
       "      <th>2</th>\n",
       "      <td>2000-01-05</td>\n",
       "      <td>HEROHONDA</td>\n",
       "      <td>EQ</td>\n",
       "      <td>1199.85</td>\n",
       "      <td>1155.0</td>\n",
       "      <td>1178.00</td>\n",
       "      <td>1140.00</td>\n",
       "      <td>1140.00</td>\n",
       "      <td>1143.80</td>\n",
       "      <td>1159.74</td>\n",
       "      <td>2525</td>\n",
       "      <td>2.928355e+11</td>\n",
       "      <td>NaN</td>\n",
       "      <td>NaN</td>\n",
       "      <td>NaN</td>\n",
       "      <td>2000</td>\n",
       "    </tr>\n",
       "    <tr>\n",
       "      <th>3</th>\n",
       "      <td>2000-01-06</td>\n",
       "      <td>HEROHONDA</td>\n",
       "      <td>EQ</td>\n",
       "      <td>1143.80</td>\n",
       "      <td>1183.0</td>\n",
       "      <td>1189.95</td>\n",
       "      <td>1150.25</td>\n",
       "      <td>1165.00</td>\n",
       "      <td>1161.40</td>\n",
       "      <td>1167.29</td>\n",
       "      <td>4375</td>\n",
       "      <td>5.106887e+11</td>\n",
       "      <td>NaN</td>\n",
       "      <td>NaN</td>\n",
       "      <td>NaN</td>\n",
       "      <td>2000</td>\n",
       "    </tr>\n",
       "    <tr>\n",
       "      <th>4</th>\n",
       "      <td>2000-01-07</td>\n",
       "      <td>HEROHONDA</td>\n",
       "      <td>EQ</td>\n",
       "      <td>1161.40</td>\n",
       "      <td>1140.0</td>\n",
       "      <td>1140.00</td>\n",
       "      <td>1069.00</td>\n",
       "      <td>1105.00</td>\n",
       "      <td>1106.55</td>\n",
       "      <td>1103.52</td>\n",
       "      <td>9093</td>\n",
       "      <td>1.003429e+12</td>\n",
       "      <td>NaN</td>\n",
       "      <td>NaN</td>\n",
       "      <td>NaN</td>\n",
       "      <td>2000</td>\n",
       "    </tr>\n",
       "  </tbody>\n",
       "</table>\n",
       "</div>"
      ],
      "text/plain": [
       "        Date     Symbol Series  Prev Close    Open     High      Low     Last  \\\n",
       "0 2000-01-03  HEROHONDA     EQ     1145.20  1200.0  1236.80  1171.00  1209.95   \n",
       "1 2000-01-04  HEROHONDA     EQ     1207.60  1200.0  1220.00  1176.00  1200.00   \n",
       "2 2000-01-05  HEROHONDA     EQ     1199.85  1155.0  1178.00  1140.00  1140.00   \n",
       "3 2000-01-06  HEROHONDA     EQ     1143.80  1183.0  1189.95  1150.25  1165.00   \n",
       "4 2000-01-07  HEROHONDA     EQ     1161.40  1140.0  1140.00  1069.00  1105.00   \n",
       "\n",
       "     Close     VWAP  Volume      Turnover  Trades  Deliverable Volume  \\\n",
       "0  1207.60  1209.11   10631  1.285401e+12     NaN                 NaN   \n",
       "1  1199.85  1200.93   19849  2.383719e+12     NaN                 NaN   \n",
       "2  1143.80  1159.74    2525  2.928355e+11     NaN                 NaN   \n",
       "3  1161.40  1167.29    4375  5.106887e+11     NaN                 NaN   \n",
       "4  1106.55  1103.52    9093  1.003429e+12     NaN                 NaN   \n",
       "\n",
       "   %Deliverable  Year  \n",
       "0           NaN  2000  \n",
       "1           NaN  2000  \n",
       "2           NaN  2000  \n",
       "3           NaN  2000  \n",
       "4           NaN  2000  "
      ]
     },
     "execution_count": 15,
     "metadata": {},
     "output_type": "execute_result"
    }
   ],
   "source": [
    "df.head()"
   ]
  },
  {
   "cell_type": "code",
   "execution_count": 16,
   "metadata": {},
   "outputs": [
    {
     "data": {
      "text/plain": [
       "<AxesSubplot:xlabel='Volume', ylabel='Count'>"
      ]
     },
     "execution_count": 16,
     "metadata": {},
     "output_type": "execute_result"
    },
    {
     "data": {
      "image/png": "[encoded data removed]",
      "text/plain": [
       "<Figure size 432x288 with 1 Axes>"
      ]
     },
     "metadata": {
      "needs_background": "light"
     },
     "output_type": "display_data"
    }
   ],
   "source": [
    "sns.histplot( x= df.Volume,kde =True)"
   ]
  },
  {
   "cell_type": "code",
   "execution_count": 17,
   "metadata": {},
   "outputs": [],
   "source": [
    "## As can be seen in the above plot, the data is right-skewed."
   ]
  },
  {
   "cell_type": "markdown",
   "metadata": {},
   "source": [
    "### EDA"
   ]
  },
  {
   "cell_type": "code",
   "execution_count": 18,
   "metadata": {},
   "outputs": [
    {
     "data": {
      "text/plain": [
       "<AxesSubplot:>"
      ]
     },
     "execution_count": 18,
     "metadata": {},
     "output_type": "execute_result"
    },
    {
     "data": {
      "image/png": "[encoded data removed]",
      "text/plain": [
       "<Figure size 432x288 with 1 Axes>"
      ]
     },
     "metadata": {
      "needs_background": "light"
     },
     "output_type": "display_data"
    }
   ],
   "source": [
    "df['Turnover'].plot(kind = 'box')"
   ]
  },
  {
   "cell_type": "code",
   "execution_count": 19,
   "metadata": {},
   "outputs": [
    {
     "data": {
      "text/plain": [
       "<AxesSubplot:xlabel='Year', ylabel='Turnover'>"
      ]
     },
     "execution_count": 19,
     "metadata": {},
     "output_type": "execute_result"
    },
    {
     "data": {
      "image/png": "[encoded data removed]",
      "text/plain": [
       "<Figure size 864x432 with 1 Axes>"
      ]
     },
     "metadata": {
      "needs_background": "light"
     },
     "output_type": "display_data"
    }
   ],
   "source": [
    "year = df.groupby([\"Year\"]).median()\n",
    "fig,ax = plt.subplots(figsize=(12, 6))\n",
    "sns.barplot(y= df.Turnover,x =df.Year,ax=ax)"
   ]
  },
  {
   "cell_type": "markdown",
   "metadata": {},
   "source": [
    "### Working on null values."
   ]
  },
  {
   "cell_type": "code",
   "execution_count": 20,
   "metadata": {},
   "outputs": [],
   "source": [
    "df.drop(['Trades'],axis=1,inplace=True)"
   ]
  },
  {
   "cell_type": "markdown",
   "metadata": {},
   "source": [
    "### Replacing the null values with median value of data."
   ]
  },
  {
   "cell_type": "code",
   "execution_count": 21,
   "metadata": {},
   "outputs": [],
   "source": [
    "from statistics import median"
   ]
  },
  {
   "cell_type": "code",
   "execution_count": 22,
   "metadata": {},
   "outputs": [
    {
     "data": {
      "text/plain": [
       "272890.0"
      ]
     },
     "execution_count": 22,
     "metadata": {},
     "output_type": "execute_result"
    }
   ],
   "source": [
    "median(df[\"Deliverable Volume\"])"
   ]
  },
  {
   "cell_type": "code",
   "execution_count": 23,
   "metadata": {},
   "outputs": [],
   "source": [
    "df['Deliverable Volume']=df['Deliverable Volume'].fillna(median(df[\"Deliverable Volume\"]))\n",
    "df['%Deliverable']=df['%Deliverable'].fillna(median(df[\"%Deliverable\"]))"
   ]
  },
  {
   "cell_type": "code",
   "execution_count": 24,
   "metadata": {},
   "outputs": [
    {
     "data": {
      "text/plain": [
       "0"
      ]
     },
     "execution_count": 24,
     "metadata": {},
     "output_type": "execute_result"
    }
   ],
   "source": [
    "df['Deliverable Volume'].isnull().sum()"
   ]
  },
  {
   "cell_type": "code",
   "execution_count": 25,
   "metadata": {},
   "outputs": [
    {
     "data": {
      "text/plain": [
       "0"
      ]
     },
     "execution_count": 25,
     "metadata": {},
     "output_type": "execute_result"
    }
   ],
   "source": [
    "df['%Deliverable'].isnull().sum()"
   ]
  },
  {
   "cell_type": "markdown",
   "metadata": {},
   "source": [
    "#### EDA after data cleaning."
   ]
  },
  {
   "cell_type": "code",
   "execution_count": 26,
   "metadata": {},
   "outputs": [
    {
     "data": {
      "text/plain": [
       "<AxesSubplot:xlabel='Volume', ylabel='Count'>"
      ]
     },
     "execution_count": 26,
     "metadata": {},
     "output_type": "execute_result"
    },
    {
     "data": {
      "image/png": "[encoded data removed]",
      "text/plain": [
       "<Figure size 432x288 with 1 Axes>"
      ]
     },
     "metadata": {
      "needs_background": "light"
     },
     "output_type": "display_data"
    }
   ],
   "source": [
    "sns.histplot( x= df.Volume,kde =True)"
   ]
  },
  {
   "cell_type": "code",
   "execution_count": 27,
   "metadata": {},
   "outputs": [
    {
     "data": {
      "text/plain": [
       "<AxesSubplot:xlabel='VWAP', ylabel='Count'>"
      ]
     },
     "execution_count": 27,
     "metadata": {},
     "output_type": "execute_result"
    },
    {
     "data": {
      "image/png": "[encoded data removed]",
      "text/plain": [
       "<Figure size 432x288 with 1 Axes>"
      ]
     },
     "metadata": {
      "needs_background": "light"
     },
     "output_type": "display_data"
    }
   ],
   "source": [
    "sns.histplot(df['VWAP'],kde=True)"
   ]
  },
  {
   "cell_type": "code",
   "execution_count": 28,
   "metadata": {},
   "outputs": [
    {
     "data": {
      "text/plain": [
       "<AxesSubplot:>"
      ]
     },
     "execution_count": 28,
     "metadata": {},
     "output_type": "execute_result"
    },
    {
     "data": {
      "image/png": "[encoded data removed]",
      "text/plain": [
       "<Figure size 432x288 with 1 Axes>"
      ]
     },
     "metadata": {
      "needs_background": "light"
     },
     "output_type": "display_data"
    }
   ],
   "source": [
    "df['Turnover'].plot(kind = 'box')"
   ]
  },
  {
   "cell_type": "code",
   "execution_count": 29,
   "metadata": {},
   "outputs": [
    {
     "data": {
      "text/plain": [
       "<seaborn.axisgrid.JointGrid at 0x23b93d04850>"
      ]
     },
     "execution_count": 29,
     "metadata": {},
     "output_type": "execute_result"
    },
    {
     "data": {
      "image/png": "[encoded data removed]",
      "text/plain": [
       "<Figure size 432x432 with 3 Axes>"
      ]
     },
     "metadata": {
      "needs_background": "light"
     },
     "output_type": "display_data"
    }
   ],
   "source": [
    "sns.jointplot(x='Volume',y='High',data=df,color ='blue')"
   ]
  },
  {
   "cell_type": "code",
   "execution_count": 30,
   "metadata": {},
   "outputs": [
    {
     "data": {
      "text/plain": [
       "<AxesSubplot:ylabel='Turnover'>"
      ]
     },
     "execution_count": 30,
     "metadata": {},
     "output_type": "execute_result"
    },
    {
     "data": {
      "image/png": "[encoded data removed]",
      "text/plain": [
       "<Figure size 1008x432 with 1 Axes>"
      ]
     },
     "metadata": {
      "needs_background": "light"
     },
     "output_type": "display_data"
    }
   ],
   "source": [
    "year = df.groupby([\"Year\"]).median()\n",
    "fig,ax = plt.subplots(figsize=(14, 6))\n",
    "sns.barplot(data=year,y = year.Turnover,x = [2000,2001,2002,2003,2004,2005,2006,2007,2008,2009,2010,2011,2012,2013,2014,2015,2016,2017,2018,2019,2020,2021] ,ax=ax,palette= \"magma\")"
   ]
  },
  {
   "cell_type": "code",
   "execution_count": 31,
   "metadata": {},
   "outputs": [
    {
     "data": {
      "text/plain": [
       "<AxesSubplot:ylabel='Turnover'>"
      ]
     },
     "execution_count": 31,
     "metadata": {},
     "output_type": "execute_result"
    },
    {
     "data": {
      "image/png": "[encoded data removed]",
      "text/plain": [
       "<Figure size 432x288 with 1 Axes>"
      ]
     },
     "metadata": {
      "needs_background": "light"
     },
     "output_type": "display_data"
    }
   ],
   "source": [
    "sns.lineplot(y = np.log(year.Turnover) ,x = df.Year.unique())"
   ]
  },
  {
   "cell_type": "code",
   "execution_count": 32,
   "metadata": {},
   "outputs": [],
   "source": [
    "# The above plot tells us that the company's turnover was at its highest in the year 2020."
   ]
  },
  {
   "cell_type": "markdown",
   "metadata": {},
   "source": [
    "### Getting x & y variable."
   ]
  },
  {
   "cell_type": "code",
   "execution_count": 33,
   "metadata": {},
   "outputs": [
    {
     "data": {
      "text/plain": [
       "0       1.285401e+12\n",
       "1       2.383719e+12\n",
       "2       2.928355e+11\n",
       "3       5.106887e+11\n",
       "4       1.003429e+12\n",
       "            ...     \n",
       "5301    2.373003e+14\n",
       "5302    2.362178e+14\n",
       "5303    4.119816e+14\n",
       "5304    2.913165e+14\n",
       "5305    1.898897e+14\n",
       "Name: Turnover, Length: 5306, dtype: float64"
      ]
     },
     "execution_count": 33,
     "metadata": {},
     "output_type": "execute_result"
    }
   ],
   "source": [
    "y=df[\"Turnover\"]\n",
    "y"
   ]
  },
  {
   "cell_type": "code",
   "execution_count": 34,
   "metadata": {},
   "outputs": [],
   "source": [
    "x = df.drop(['Symbol','Series','Turnover','Date','Year'],axis=1)\n",
    "y= df['Turnover']\n"
   ]
  },
  {
   "cell_type": "code",
   "execution_count": 35,
   "metadata": {},
   "outputs": [
    {
     "data": {
      "text/html": [
       "<div>\n",
       "<style scoped>\n",
       "    .dataframe tbody tr th:only-of-type {\n",
       "        vertical-align: middle;\n",
       "    }\n",
       "\n",
       "    .dataframe tbody tr th {\n",
       "        vertical-align: top;\n",
       "    }\n",
       "\n",
       "    .dataframe thead th {\n",
       "        text-align: right;\n",
       "    }\n",
       "</style>\n",
       "<table border=\"1\" class=\"dataframe\">\n",
       "  <thead>\n",
       "    <tr style=\"text-align: right;\">\n",
       "      <th></th>\n",
       "      <th>Prev Close</th>\n",
       "      <th>Open</th>\n",
       "      <th>High</th>\n",
       "      <th>Low</th>\n",
       "      <th>Last</th>\n",
       "      <th>Close</th>\n",
       "      <th>VWAP</th>\n",
       "      <th>Volume</th>\n",
       "      <th>Deliverable Volume</th>\n",
       "      <th>%Deliverable</th>\n",
       "    </tr>\n",
       "  </thead>\n",
       "  <tbody>\n",
       "    <tr>\n",
       "      <th>0</th>\n",
       "      <td>1145.2</td>\n",
       "      <td>1200.0</td>\n",
       "      <td>1236.8</td>\n",
       "      <td>1171.0</td>\n",
       "      <td>1209.95</td>\n",
       "      <td>1207.6</td>\n",
       "      <td>1209.11</td>\n",
       "      <td>10631</td>\n",
       "      <td>272890.0</td>\n",
       "      <td>0.62275</td>\n",
       "    </tr>\n",
       "  </tbody>\n",
       "</table>\n",
       "</div>"
      ],
      "text/plain": [
       "   Prev Close    Open    High     Low     Last   Close     VWAP  Volume  \\\n",
       "0      1145.2  1200.0  1236.8  1171.0  1209.95  1207.6  1209.11   10631   \n",
       "\n",
       "   Deliverable Volume  %Deliverable  \n",
       "0            272890.0       0.62275  "
      ]
     },
     "execution_count": 35,
     "metadata": {},
     "output_type": "execute_result"
    }
   ],
   "source": [
    "x.head(1)"
   ]
  },
  {
   "cell_type": "code",
   "execution_count": 36,
   "metadata": {},
   "outputs": [
    {
     "data": {
      "text/plain": [
       "0    1.285401e+12\n",
       "Name: Turnover, dtype: float64"
      ]
     },
     "execution_count": 36,
     "metadata": {},
     "output_type": "execute_result"
    }
   ],
   "source": [
    "y.head(1)"
   ]
  },
  {
   "cell_type": "markdown",
   "metadata": {},
   "source": [
    "### Importing train test split."
   ]
  },
  {
   "cell_type": "code",
   "execution_count": 37,
   "metadata": {},
   "outputs": [],
   "source": [
    "from sklearn.model_selection import train_test_split"
   ]
  },
  {
   "cell_type": "code",
   "execution_count": 38,
   "metadata": {},
   "outputs": [],
   "source": [
    "xtrain, xtest , ytrain, ytest = train_test_split(x,y, test_size=0.30, random_state=54)"
   ]
  },
  {
   "cell_type": "markdown",
   "metadata": {},
   "source": [
    "### Importing basic linear regression."
   ]
  },
  {
   "cell_type": "code",
   "execution_count": 39,
   "metadata": {},
   "outputs": [],
   "source": [
    "from sklearn.linear_model import LinearRegression"
   ]
  },
  {
   "cell_type": "code",
   "execution_count": 40,
   "metadata": {},
   "outputs": [
    {
     "data": {
      "text/plain": [
       "0.8359341074190231"
      ]
     },
     "execution_count": 40,
     "metadata": {},
     "output_type": "execute_result"
    }
   ],
   "source": [
    "model = LinearRegression()\n",
    "model.fit(xtrain,ytrain)\n",
    "model.score(xtest,ytest)"
   ]
  },
  {
   "cell_type": "code",
   "execution_count": 41,
   "metadata": {},
   "outputs": [
    {
     "data": {
      "text/plain": [
       "array([ 2.57914213e+14,  7.24411333e+13, -5.97017073e+13, ...,\n",
       "        2.52915768e+14,  1.89552383e+14,  1.45336894e+14])"
      ]
     },
     "execution_count": 41,
     "metadata": {},
     "output_type": "execute_result"
    }
   ],
   "source": [
    "model.predict(xtest)"
   ]
  },
  {
   "cell_type": "markdown",
   "metadata": {},
   "source": [
    "### Using other regression algorithms."
   ]
  },
  {
   "cell_type": "code",
   "execution_count": 42,
   "metadata": {},
   "outputs": [],
   "source": [
    "from sklearn.linear_model import LinearRegression\n",
    "from sklearn.linear_model import Lasso\n",
    "from sklearn.linear_model import ElasticNet\n",
    "from sklearn.tree import DecisionTreeRegressor\n",
    "from sklearn.neighbors import KNeighborsRegressor\n",
    "from sklearn.ensemble import GradientBoostingRegressor\n",
    "\n",
    "\n",
    "from sklearn.pipeline import Pipeline \n",
    "from sklearn.preprocessing import StandardScaler"
   ]
  },
  {
   "cell_type": "markdown",
   "metadata": {},
   "source": [
    "### Importing cross val score and Kfold."
   ]
  },
  {
   "cell_type": "code",
   "execution_count": 43,
   "metadata": {},
   "outputs": [],
   "source": [
    "from sklearn.model_selection import cross_val_score\n",
    "from sklearn.model_selection import KFold"
   ]
  },
  {
   "cell_type": "markdown",
   "metadata": {},
   "source": [
    "### Shortening the value of y for easy calculation using log."
   ]
  },
  {
   "cell_type": "code",
   "execution_count": 44,
   "metadata": {},
   "outputs": [],
   "source": [
    "y =np.log2(df[\"Turnover\"])"
   ]
  },
  {
   "cell_type": "code",
   "execution_count": 45,
   "metadata": {},
   "outputs": [
    {
     "data": {
      "text/plain": [
       "0       40.225355\n",
       "1       41.116351\n",
       "2       38.091299\n",
       "3       38.893653\n",
       "4       39.868076\n",
       "          ...    \n",
       "5301    47.753708\n",
       "5302    47.747111\n",
       "5303    48.549573\n",
       "5304    48.049581\n",
       "5305    47.432155\n",
       "Name: Turnover, Length: 5306, dtype: float64"
      ]
     },
     "execution_count": 45,
     "metadata": {},
     "output_type": "execute_result"
    }
   ],
   "source": [
    "y"
   ]
  },
  {
   "cell_type": "code",
   "execution_count": 46,
   "metadata": {},
   "outputs": [],
   "source": [
    "# Train Test Split\n",
    "xtrain, xtest , ytrain, ytest = train_test_split(x,y, test_size=0.30,random_state=101)"
   ]
  },
  {
   "cell_type": "markdown",
   "metadata": {},
   "source": [
    "### Creating pipelines."
   ]
  },
  {
   "cell_type": "code",
   "execution_count": 47,
   "metadata": {},
   "outputs": [],
   "source": [
    "pipelines = []\n",
    "pipelines.append(('Scaled_LR', Pipeline([('Scaler', StandardScaler()),('LR',LinearRegression())])))\n",
    "#pipelines.append(('NOScaler',LinearRegression()))\n",
    "pipelines.append(('Scaled_LASSO', Pipeline([('Scaler', StandardScaler()),('LASSO', Lasso())])))\n",
    "pipelines.append(('Scaled_EN', Pipeline([('Scaler', StandardScaler()),('EN', ElasticNet())])))\n",
    "pipelines.append(('Scaled_KNN', Pipeline([('Scaler', StandardScaler()),('KNN', KNeighborsRegressor())])))\n",
    "pipelines.append(('Scaled_CART', Pipeline([('Scaler', StandardScaler()),('CART', DecisionTreeRegressor())])))\n",
    "pipelines.append(('Scaled_GBM', Pipeline([('Scaler', StandardScaler()),('GBM', GradientBoostingRegressor())])))"
   ]
  },
  {
   "cell_type": "markdown",
   "metadata": {},
   "source": [
    "### Using for loop to check results."
   ]
  },
  {
   "cell_type": "code",
   "execution_count": 48,
   "metadata": {},
   "outputs": [
    {
     "name": "stdout",
     "output_type": "stream",
     "text": [
      "Scaled_LR: -1.436367 (0.297058) Scaled_LR\n",
      "Scaled_LASSO: -3.341305 (0.418238) Scaled_LASSO\n",
      "Scaled_EN: -2.379917 (0.309458) Scaled_EN\n",
      "Scaled_KNN: -0.115533 (0.055618) Scaled_KNN\n",
      "Scaled_CART: -0.020315 (0.010976) Scaled_CART\n",
      "Scaled_GBM: -0.019500 (0.004347) Scaled_GBM\n"
     ]
    }
   ],
   "source": [
    "results = []\n",
    "names = []\n",
    "for name, model in pipelines:\n",
    "    kfold= KFold(n_splits=10,random_state=21,shuffle=True)\n",
    "    cv_results = cross_val_score(model, xtrain, ytrain, cv=kfold, scoring='neg_mean_squared_error')\n",
    "    results.append(cv_results)\n",
    "    names.append(name)\n",
    "    msg = \"%s: %f (%f)\"  %(name, cv_results.mean(), cv_results.std())\n",
    "    print(msg,name)\n",
    "    "
   ]
  },
  {
   "cell_type": "markdown",
   "metadata": {},
   "source": [
    "### Using scaled GBM with Gridsearch for parameter tuning."
   ]
  },
  {
   "cell_type": "code",
   "execution_count": 49,
   "metadata": {},
   "outputs": [
    {
     "name": "stdout",
     "output_type": "stream",
     "text": [
      "Fitting 10 folds for each of 10 candidates, totalling 100 fits\n"
     ]
    }
   ],
   "source": [
    "from sklearn.model_selection import GridSearchCV\n",
    "\n",
    "#Conversion of values\n",
    "scaler = StandardScaler().fit(xtrain)\n",
    "rescaledX = scaler.transform(xtrain)\n",
    "\n",
    "#Setting parameters for Grid\n",
    "param_grid = dict(n_estimators = np.array([50,100,200,300,400,500,600,700,800,900]))\n",
    "\n",
    "kfold = KFold(n_splits=10, random_state=21,shuffle = True)\n",
    "\n",
    "model = GradientBoostingRegressor(random_state=21)\n",
    "\n",
    "grid  =  GridSearchCV( estimator= model, param_grid = param_grid, scoring = 'neg_mean_squared_error', cv = kfold,verbose=1)\n",
    "\n",
    "grid_result = grid.fit( rescaledX , ytrain)"
   ]
  },
  {
   "cell_type": "markdown",
   "metadata": {},
   "source": [
    "### Using function to get score and estimator."
   ]
  },
  {
   "cell_type": "code",
   "execution_count": 50,
   "metadata": {},
   "outputs": [
    {
     "name": "stdout",
     "output_type": "stream",
     "text": [
      "Best: -0.006855 using {'n_estimators': 900}\n"
     ]
    }
   ],
   "source": [
    "print(\"Best: %f using %s\" % (grid_result.best_score_, grid_result.best_params_))"
   ]
  },
  {
   "cell_type": "markdown",
   "metadata": {},
   "source": [
    "### Checking mean squared error."
   ]
  },
  {
   "cell_type": "code",
   "execution_count": 51,
   "metadata": {},
   "outputs": [
    {
     "name": "stdout",
     "output_type": "stream",
     "text": [
      "      Iter       Train Loss   Remaining Time \n",
      "         1           4.5607           14.05s\n",
      "         2           3.7982           14.03s\n",
      "         3           3.1709           14.01s\n",
      "         4           2.6484           10.50s\n",
      "         5           2.2243           11.19s\n",
      "         6           1.8756            9.31s\n",
      "         7           1.5841           10.64s\n",
      "         8           1.3446            9.30s\n",
      "         9           1.1381           10.35s\n",
      "        10           0.9666           10.10s\n",
      "        20           0.2281            8.85s\n",
      "        30           0.0766            8.23s\n",
      "        40           0.0379            8.12s\n",
      "        50           0.0253            8.01s\n",
      "        60           0.0205            7.97s\n",
      "        70           0.0169            7.87s\n",
      "        80           0.0141            7.76s\n",
      "        90           0.0125            7.56s\n",
      "       100           0.0114            7.59s\n",
      "       200           0.0056            6.59s\n",
      "       300           0.0038            5.68s\n",
      "       400           0.0028            4.71s\n",
      "       500           0.0021            3.76s\n",
      "       600           0.0016            2.82s\n",
      "       700           0.0014            1.88s\n",
      "       800           0.0011            0.94s\n",
      "       900           0.0010            0.00s\n",
      "0.005088340547755235\n"
     ]
    }
   ],
   "source": [
    "from sklearn.metrics import mean_squared_error\n",
    "\n",
    "scaler = StandardScaler().fit(xtrain)\n",
    "rescaled_X_train = scaler.transform(xtrain)\n",
    "\n",
    "model = GradientBoostingRegressor(random_state=21, n_estimators=900,verbose=1)\n",
    "\n",
    "model.fit(rescaled_X_train, ytrain)\n",
    "\n",
    "# transform the validation dataset\n",
    "rescaled_X_test = scaler.transform(xtest)\n",
    "\n",
    "predictions = model.predict(rescaled_X_test)\n",
    "\n",
    "print (mean_squared_error(ytest, predictions))"
   ]
  },
  {
   "cell_type": "code",
   "execution_count": 52,
   "metadata": {},
   "outputs": [
    {
     "data": {
      "text/plain": [
       "array([47.78897815, 46.59940027, 43.34213093, ..., 46.23607675,\n",
       "       48.29295445, 40.9111209 ])"
      ]
     },
     "execution_count": 52,
     "metadata": {},
     "output_type": "execute_result"
    }
   ],
   "source": [
    "predictions"
   ]
  },
  {
   "cell_type": "markdown",
   "metadata": {},
   "source": [
    "### Getting the score."
   ]
  },
  {
   "cell_type": "code",
   "execution_count": 53,
   "metadata": {},
   "outputs": [
    {
     "data": {
      "text/plain": [
       "0.9990801159596784"
      ]
     },
     "execution_count": 53,
     "metadata": {},
     "output_type": "execute_result"
    }
   ],
   "source": [
    "model.score(rescaled_X_test,ytest)"
   ]
  },
  {
   "cell_type": "code",
   "execution_count": 54,
   "metadata": {},
   "outputs": [
    {
     "data": {
      "text/plain": [
       "0.9990801159596784"
      ]
     },
     "execution_count": 54,
     "metadata": {},
     "output_type": "execute_result"
    }
   ],
   "source": [
    "from sklearn.metrics import r2_score\n",
    "r2_score(ytest,predictions)"
   ]
  },
  {
   "cell_type": "markdown",
   "metadata": {},
   "source": [
    "### Base case."
   ]
  },
  {
   "cell_type": "code",
   "execution_count": 55,
   "metadata": {},
   "outputs": [
    {
     "data": {
      "text/html": [
       "<div>\n",
       "<style scoped>\n",
       "    .dataframe tbody tr th:only-of-type {\n",
       "        vertical-align: middle;\n",
       "    }\n",
       "\n",
       "    .dataframe tbody tr th {\n",
       "        vertical-align: top;\n",
       "    }\n",
       "\n",
       "    .dataframe thead th {\n",
       "        text-align: right;\n",
       "    }\n",
       "</style>\n",
       "<table border=\"1\" class=\"dataframe\">\n",
       "  <thead>\n",
       "    <tr style=\"text-align: right;\">\n",
       "      <th></th>\n",
       "      <th>Prev Close</th>\n",
       "      <th>Open</th>\n",
       "      <th>High</th>\n",
       "      <th>Low</th>\n",
       "      <th>Last</th>\n",
       "      <th>Close</th>\n",
       "      <th>VWAP</th>\n",
       "      <th>Volume</th>\n",
       "      <th>Turnover</th>\n",
       "      <th>Deliverable Volume</th>\n",
       "      <th>%Deliverable</th>\n",
       "      <th>Year</th>\n",
       "    </tr>\n",
       "  </thead>\n",
       "  <tbody>\n",
       "    <tr>\n",
       "      <th>count</th>\n",
       "      <td>5306.000000</td>\n",
       "      <td>5306.000000</td>\n",
       "      <td>5306.000000</td>\n",
       "      <td>5306.000000</td>\n",
       "      <td>5306.000000</td>\n",
       "      <td>5306.000000</td>\n",
       "      <td>5306.000000</td>\n",
       "      <td>5.306000e+03</td>\n",
       "      <td>5.306000e+03</td>\n",
       "      <td>5.306000e+03</td>\n",
       "      <td>5306.000000</td>\n",
       "      <td>5306.000000</td>\n",
       "    </tr>\n",
       "    <tr>\n",
       "      <th>mean</th>\n",
       "      <td>1651.346862</td>\n",
       "      <td>1653.169544</td>\n",
       "      <td>1675.767273</td>\n",
       "      <td>1628.693781</td>\n",
       "      <td>1651.483047</td>\n",
       "      <td>1651.662345</td>\n",
       "      <td>1652.497631</td>\n",
       "      <td>4.871809e+05</td>\n",
       "      <td>9.100201e+13</td>\n",
       "      <td>2.611697e+05</td>\n",
       "      <td>0.529714</td>\n",
       "      <td>2010.137015</td>\n",
       "    </tr>\n",
       "    <tr>\n",
       "      <th>std</th>\n",
       "      <td>1083.346794</td>\n",
       "      <td>1085.385796</td>\n",
       "      <td>1095.027199</td>\n",
       "      <td>1073.447115</td>\n",
       "      <td>1083.179725</td>\n",
       "      <td>1083.443103</td>\n",
       "      <td>1084.177213</td>\n",
       "      <td>5.300477e+05</td>\n",
       "      <td>1.396886e+14</td>\n",
       "      <td>2.648481e+05</td>\n",
       "      <td>0.150712</td>\n",
       "      <td>6.163090</td>\n",
       "    </tr>\n",
       "    <tr>\n",
       "      <th>min</th>\n",
       "      <td>116.650000</td>\n",
       "      <td>117.000000</td>\n",
       "      <td>123.700000</td>\n",
       "      <td>115.050000</td>\n",
       "      <td>117.000000</td>\n",
       "      <td>116.650000</td>\n",
       "      <td>118.880000</td>\n",
       "      <td>5.960000e+02</td>\n",
       "      <td>2.765216e+10</td>\n",
       "      <td>1.642000e+03</td>\n",
       "      <td>0.083700</td>\n",
       "      <td>2000.000000</td>\n",
       "    </tr>\n",
       "    <tr>\n",
       "      <th>25%</th>\n",
       "      <td>697.287500</td>\n",
       "      <td>697.325000</td>\n",
       "      <td>709.900000</td>\n",
       "      <td>682.000000</td>\n",
       "      <td>697.000000</td>\n",
       "      <td>697.287500</td>\n",
       "      <td>696.077500</td>\n",
       "      <td>2.078688e+05</td>\n",
       "      <td>1.588965e+13</td>\n",
       "      <td>1.302058e+05</td>\n",
       "      <td>0.427725</td>\n",
       "      <td>2005.000000</td>\n",
       "    </tr>\n",
       "    <tr>\n",
       "      <th>50%</th>\n",
       "      <td>1689.425000</td>\n",
       "      <td>1690.000000</td>\n",
       "      <td>1713.500000</td>\n",
       "      <td>1660.750000</td>\n",
       "      <td>1689.550000</td>\n",
       "      <td>1689.925000</td>\n",
       "      <td>1686.615000</td>\n",
       "      <td>3.546025e+05</td>\n",
       "      <td>5.149785e+13</td>\n",
       "      <td>2.221555e+05</td>\n",
       "      <td>0.551000</td>\n",
       "      <td>2010.000000</td>\n",
       "    </tr>\n",
       "    <tr>\n",
       "      <th>75%</th>\n",
       "      <td>2584.487500</td>\n",
       "      <td>2590.000000</td>\n",
       "      <td>2617.775000</td>\n",
       "      <td>2555.750000</td>\n",
       "      <td>2585.000000</td>\n",
       "      <td>2584.725000</td>\n",
       "      <td>2588.282500</td>\n",
       "      <td>5.967798e+05</td>\n",
       "      <td>1.114694e+14</td>\n",
       "      <td>3.087302e+05</td>\n",
       "      <td>0.622750</td>\n",
       "      <td>2015.000000</td>\n",
       "    </tr>\n",
       "    <tr>\n",
       "      <th>max</th>\n",
       "      <td>4048.950000</td>\n",
       "      <td>4084.000000</td>\n",
       "      <td>4091.950000</td>\n",
       "      <td>3995.000000</td>\n",
       "      <td>4036.050000</td>\n",
       "      <td>4048.950000</td>\n",
       "      <td>4046.970000</td>\n",
       "      <td>1.166595e+07</td>\n",
       "      <td>3.359303e+15</td>\n",
       "      <td>8.862088e+06</td>\n",
       "      <td>1.000000</td>\n",
       "      <td>2021.000000</td>\n",
       "    </tr>\n",
       "  </tbody>\n",
       "</table>\n",
       "</div>"
      ],
      "text/plain": [
       "        Prev Close         Open         High          Low         Last  \\\n",
       "count  5306.000000  5306.000000  5306.000000  5306.000000  5306.000000   \n",
       "mean   1651.346862  1653.169544  1675.767273  1628.693781  1651.483047   \n",
       "std    1083.346794  1085.385796  1095.027199  1073.447115  1083.179725   \n",
       "min     116.650000   117.000000   123.700000   115.050000   117.000000   \n",
       "25%     697.287500   697.325000   709.900000   682.000000   697.000000   \n",
       "50%    1689.425000  1690.000000  1713.500000  1660.750000  1689.550000   \n",
       "75%    2584.487500  2590.000000  2617.775000  2555.750000  2585.000000   \n",
       "max    4048.950000  4084.000000  4091.950000  3995.000000  4036.050000   \n",
       "\n",
       "             Close         VWAP        Volume      Turnover  \\\n",
       "count  5306.000000  5306.000000  5.306000e+03  5.306000e+03   \n",
       "mean   1651.662345  1652.497631  4.871809e+05  9.100201e+13   \n",
       "std    1083.443103  1084.177213  5.300477e+05  1.396886e+14   \n",
       "min     116.650000   118.880000  5.960000e+02  2.765216e+10   \n",
       "25%     697.287500   696.077500  2.078688e+05  1.588965e+13   \n",
       "50%    1689.925000  1686.615000  3.546025e+05  5.149785e+13   \n",
       "75%    2584.725000  2588.282500  5.967798e+05  1.114694e+14   \n",
       "max    4048.950000  4046.970000  1.166595e+07  3.359303e+15   \n",
       "\n",
       "       Deliverable Volume  %Deliverable         Year  \n",
       "count        5.306000e+03   5306.000000  5306.000000  \n",
       "mean         2.611697e+05      0.529714  2010.137015  \n",
       "std          2.648481e+05      0.150712     6.163090  \n",
       "min          1.642000e+03      0.083700  2000.000000  \n",
       "25%          1.302058e+05      0.427725  2005.000000  \n",
       "50%          2.221555e+05      0.551000  2010.000000  \n",
       "75%          3.087302e+05      0.622750  2015.000000  \n",
       "max          8.862088e+06      1.000000  2021.000000  "
      ]
     },
     "execution_count": 55,
     "metadata": {},
     "output_type": "execute_result"
    }
   ],
   "source": [
    "df.describe()"
   ]
  },
  {
   "cell_type": "code",
   "execution_count": 56,
   "metadata": {},
   "outputs": [],
   "source": [
    "average = df.describe().iloc[1]"
   ]
  },
  {
   "cell_type": "code",
   "execution_count": 57,
   "metadata": {},
   "outputs": [],
   "source": [
    "average = average.drop(['Turnover','Year'],axis=0)"
   ]
  },
  {
   "cell_type": "code",
   "execution_count": 58,
   "metadata": {},
   "outputs": [
    {
     "data": {
      "text/plain": [
       "Prev Close              1651.346862\n",
       "Open                    1653.169544\n",
       "High                    1675.767273\n",
       "Low                     1628.693781\n",
       "Last                    1651.483047\n",
       "Close                   1651.662345\n",
       "VWAP                    1652.497631\n",
       "Volume                487180.853750\n",
       "Deliverable Volume    261169.688654\n",
       "%Deliverable               0.529714\n",
       "Name: mean, dtype: float64"
      ]
     },
     "execution_count": 58,
     "metadata": {},
     "output_type": "execute_result"
    }
   ],
   "source": [
    "average"
   ]
  },
  {
   "cell_type": "markdown",
   "metadata": {},
   "source": [
    "### Standard Deviation."
   ]
  },
  {
   "cell_type": "code",
   "execution_count": 59,
   "metadata": {},
   "outputs": [],
   "source": [
    "std = df.describe().iloc[2]"
   ]
  },
  {
   "cell_type": "code",
   "execution_count": 60,
   "metadata": {},
   "outputs": [],
   "source": [
    "std = std.drop(['Turnover','Year'],axis=0)"
   ]
  },
  {
   "cell_type": "code",
   "execution_count": 61,
   "metadata": {},
   "outputs": [
    {
     "data": {
      "text/plain": [
       "Prev Close              1083.346794\n",
       "Open                    1085.385796\n",
       "High                    1095.027199\n",
       "Low                     1073.447115\n",
       "Last                    1083.179725\n",
       "Close                   1083.443103\n",
       "VWAP                    1084.177213\n",
       "Volume                530047.674510\n",
       "Deliverable Volume    264848.131892\n",
       "%Deliverable               0.150712\n",
       "Name: std, dtype: float64"
      ]
     },
     "execution_count": 61,
     "metadata": {},
     "output_type": "execute_result"
    }
   ],
   "source": [
    "std"
   ]
  },
  {
   "cell_type": "markdown",
   "metadata": {},
   "source": [
    "### Best Case."
   ]
  },
  {
   "cell_type": "code",
   "execution_count": 62,
   "metadata": {},
   "outputs": [],
   "source": [
    "bestcase = average+std"
   ]
  },
  {
   "cell_type": "code",
   "execution_count": 63,
   "metadata": {},
   "outputs": [
    {
     "data": {
      "text/plain": [
       "Prev Close            2.734694e+03\n",
       "Open                  2.738555e+03\n",
       "High                  2.770794e+03\n",
       "Low                   2.702141e+03\n",
       "Last                  2.734663e+03\n",
       "Close                 2.735105e+03\n",
       "VWAP                  2.736675e+03\n",
       "Volume                1.017229e+06\n",
       "Deliverable Volume    5.260178e+05\n",
       "%Deliverable          6.804265e-01\n",
       "dtype: float64"
      ]
     },
     "execution_count": 63,
     "metadata": {},
     "output_type": "execute_result"
    }
   ],
   "source": [
    "bestcase"
   ]
  },
  {
   "cell_type": "markdown",
   "metadata": {},
   "source": [
    "### Worst Case."
   ]
  },
  {
   "cell_type": "code",
   "execution_count": 64,
   "metadata": {},
   "outputs": [],
   "source": [
    "worstcase = average-std"
   ]
  },
  {
   "cell_type": "code",
   "execution_count": 65,
   "metadata": {},
   "outputs": [
    {
     "data": {
      "text/plain": [
       "Prev Close              568.000068\n",
       "Open                    567.783748\n",
       "High                    580.740073\n",
       "Low                     555.246666\n",
       "Last                    568.303322\n",
       "Close                   568.219242\n",
       "VWAP                    568.320418\n",
       "Volume               -42866.820760\n",
       "Deliverable Volume    -3678.443238\n",
       "%Deliverable              0.379002\n",
       "dtype: float64"
      ]
     },
     "execution_count": 65,
     "metadata": {},
     "output_type": "execute_result"
    }
   ],
   "source": [
    "worstcase"
   ]
  },
  {
   "cell_type": "markdown",
   "metadata": {},
   "source": [
    "### Predicting Cases."
   ]
  },
  {
   "cell_type": "code",
   "execution_count": 66,
   "metadata": {},
   "outputs": [
    {
     "name": "stderr",
     "output_type": "stream",
     "text": [
      "C:\\Users\\cdac\\AppData\\Local\\Programs\\Python\\Python39\\lib\\site-packages\\sklearn\\base.py:450: UserWarning: X does not have valid feature names, but StandardScaler was fitted with feature names\n",
      "  warnings.warn(\n"
     ]
    }
   ],
   "source": [
    "scalercase = StandardScaler().fit([average.values])\n",
    "rescaledcase = scaler.transform([average.values])\n",
    "\n",
    "\n",
    "Base_Case = model.predict(rescaledcase)"
   ]
  },
  {
   "cell_type": "code",
   "execution_count": 67,
   "metadata": {},
   "outputs": [
    {
     "name": "stderr",
     "output_type": "stream",
     "text": [
      "C:\\Users\\cdac\\AppData\\Local\\Programs\\Python\\Python39\\lib\\site-packages\\sklearn\\base.py:450: UserWarning: X does not have valid feature names, but StandardScaler was fitted with feature names\n",
      "  warnings.warn(\n"
     ]
    }
   ],
   "source": [
    "\n",
    "scalercase = StandardScaler().fit([bestcase])\n",
    "rescaledcase = scaler.transform([bestcase])\n",
    "\n",
    "Best_Case = model.predict(rescaledcase)"
   ]
  },
  {
   "cell_type": "code",
   "execution_count": 68,
   "metadata": {},
   "outputs": [
    {
     "name": "stderr",
     "output_type": "stream",
     "text": [
      "C:\\Users\\cdac\\AppData\\Local\\Programs\\Python\\Python39\\lib\\site-packages\\sklearn\\base.py:450: UserWarning: X does not have valid feature names, but StandardScaler was fitted with feature names\n",
      "  warnings.warn(\n"
     ]
    }
   ],
   "source": [
    "\n",
    "scalercase = StandardScaler().fit([worstcase])\n",
    "rescaledcase = scaler.transform([worstcase])\n",
    "Worst_Case = model.predict(rescaledcase)"
   ]
  },
  {
   "cell_type": "code",
   "execution_count": 69,
   "metadata": {},
   "outputs": [
    {
     "data": {
      "text/plain": [
       "array([46.25000358])"
      ]
     },
     "execution_count": 69,
     "metadata": {},
     "output_type": "execute_result"
    }
   ],
   "source": [
    "Base_Case"
   ]
  },
  {
   "cell_type": "code",
   "execution_count": 70,
   "metadata": {},
   "outputs": [
    {
     "data": {
      "text/plain": [
       "array([48.0294649])"
      ]
     },
     "execution_count": 70,
     "metadata": {},
     "output_type": "execute_result"
    }
   ],
   "source": [
    "Best_Case"
   ]
  },
  {
   "cell_type": "code",
   "execution_count": 71,
   "metadata": {},
   "outputs": [
    {
     "data": {
      "text/plain": [
       "array([36.47594693])"
      ]
     },
     "execution_count": 71,
     "metadata": {},
     "output_type": "execute_result"
    }
   ],
   "source": [
    "Worst_Case"
   ]
  },
  {
   "cell_type": "markdown",
   "metadata": {},
   "source": [
    "### Plotting Cases."
   ]
  },
  {
   "cell_type": "code",
   "execution_count": 72,
   "metadata": {},
   "outputs": [],
   "source": [
    "Cases = pd.Series(dtype=\"object\")"
   ]
  },
  {
   "cell_type": "code",
   "execution_count": 73,
   "metadata": {},
   "outputs": [],
   "source": [
    "Cases[\"Worst_Case\"]=Worst_Case[0]\n",
    "Cases[\"Base_Case\"]=Base_Case[0]\n",
    "Cases[\"Best_Case\"]=Best_Case[0]"
   ]
  },
  {
   "cell_type": "code",
   "execution_count": 74,
   "metadata": {},
   "outputs": [],
   "source": [
    "#worst  = 9.557717e+10   # Average = 8.368324e+13 # Best = 2.872828e+14"
   ]
  },
  {
   "cell_type": "code",
   "execution_count": 75,
   "metadata": {},
   "outputs": [
    {
     "data": {
      "text/plain": [
       "<AxesSubplot:>"
      ]
     },
     "execution_count": 75,
     "metadata": {},
     "output_type": "execute_result"
    },
    {
     "data": {
      "image/png": "[encoded data removed]",
      "text/plain": [
       "<Figure size 720x360 with 1 Axes>"
      ]
     },
     "metadata": {
      "needs_background": "light"
     },
     "output_type": "display_data"
    }
   ],
   "source": [
    "fig,ax = plt.subplots(figsize=(10, 5))\n",
    "sns.barplot(x=[\"Worst_Case\",\"Base_Case\",\"Best_Case\"], y = Cases, ax=ax )"
   ]
  },
  {
   "cell_type": "code",
   "execution_count": 76,
   "metadata": {},
   "outputs": [
    {
     "data": {
      "text/plain": [
       "95577170000.0"
      ]
     },
     "execution_count": 76,
     "metadata": {},
     "output_type": "execute_result"
    }
   ],
   "source": [
    "9.557717e+10                                    # Worst case"
   ]
  },
  {
   "cell_type": "code",
   "execution_count": 77,
   "metadata": {},
   "outputs": [
    {
     "data": {
      "text/plain": [
       "83683240000000.0"
      ]
     },
     "execution_count": 77,
     "metadata": {},
     "output_type": "execute_result"
    }
   ],
   "source": [
    "8.368324e+13                                    # Average case"
   ]
  },
  {
   "cell_type": "code",
   "execution_count": 78,
   "metadata": {},
   "outputs": [
    {
     "data": {
      "text/plain": [
       "287282800000000.0"
      ]
     },
     "execution_count": 78,
     "metadata": {},
     "output_type": "execute_result"
    }
   ],
   "source": [
    "2.872828e+14                                    # Best case"
   ]
  },
  {
   "cell_type": "markdown",
   "metadata": {},
   "source": [
    "### Converting the values of the Worst, Average & Best case to local currency (i.e.Indian Rupee)."
   ]
  },
  {
   "cell_type": "code",
   "execution_count": 79,
   "metadata": {},
   "outputs": [
    {
     "data": {
      "text/plain": [
       "'en_IN'"
      ]
     },
     "execution_count": 79,
     "metadata": {},
     "output_type": "execute_result"
    }
   ],
   "source": [
    "import locale\n",
    "locale.setlocale(locale.LC_MONETARY, 'en_IN')"
   ]
  },
  {
   "cell_type": "code",
   "execution_count": 80,
   "metadata": {},
   "outputs": [],
   "source": [
    "RsCases = pd.Series(dtype=\"object\")\n",
    "RsCases[\"Worst Case\"]=locale.currency(95577170000, grouping=True)\n",
    "RsCases[\"Base Case\"]=locale.currency(83683240000000, grouping=True)\n",
    "RsCases[\"Best Case\"]=locale.currency(287282800000000, grouping=True)"
   ]
  },
  {
   "cell_type": "code",
   "execution_count": 81,
   "metadata": {},
   "outputs": [
    {
     "name": "stdout",
     "output_type": "stream",
     "text": [
      "Worst Case          ₹ 95,57,71,70,000.00\n",
      "Base Case      ₹ 8,36,83,24,00,00,000.00\n",
      "Best Case     ₹ 28,72,82,80,00,00,000.00\n",
      "dtype: object\n"
     ]
    }
   ],
   "source": [
    "#### Printing Cases\n",
    "print(RsCases)"
   ]
  },
  {
   "cell_type": "code",
   "execution_count": null,
   "metadata": {},
   "outputs": [],
   "source": []
  },
  {
   "cell_type": "code",
   "execution_count": null,
   "metadata": {},
   "outputs": [],
   "source": []
  }
 ],
 "metadata": {
  "kernelspec": {
   "display_name": "Python 3 (ipykernel)",
   "language": "python",
   "name": "python3"
  },
  "language_info": {
   "codemirror_mode": {
    "name": "ipython",
    "version": 3
   },
   "file_extension": ".py",
   "mimetype": "text/x-python",
   "name": "python",
   "nbconvert_exporter": "python",
   "pygments_lexer": "ipython3",
   "version": "3.9.11"
  },
  "vscode": {
   "interpreter": {
    "hash": "58e5b9513dcb156dcfed6bfb8854cad636f7de43d94c2865e9f01c77e7fc5d1b"
   }
  }
 },
 "nbformat": 4,
 "nbformat_minor": 2
}
